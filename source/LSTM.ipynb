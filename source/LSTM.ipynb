{
 "cells": [
  {
   "cell_type": "code",
   "execution_count": 21,
   "metadata": {},
   "outputs": [],
   "source": [
    "from keras.preprocessing.text import Tokenizer\n",
    "from keras.preprocessing import sequence\n",
    "from keras.datasets import imdb\n",
    "import numpy as np\n",
    "np.random.seed(10)"
   ]
  },
  {
   "cell_type": "code",
   "execution_count": 22,
   "metadata": {},
   "outputs": [],
   "source": [
    "import re \n",
    "def rm_tags(text):\n",
    "    re_tag = re.compile(r'<[^>]+>')\n",
    "    return re_tag.sub('',text)"
   ]
  },
  {
   "cell_type": "code",
   "execution_count": 23,
   "metadata": {},
   "outputs": [],
   "source": [
    "import os\n",
    "def read_files(filetype):\n",
    "    path='data/aclImdb/'\n",
    "    file_list=[]\n",
    "    positive_path =path+filetype+'/pos/'\n",
    "    for f in os.listdir(positive_path):\n",
    "        file_list +=[positive_path+f]\n",
    "    \n",
    "    negative_path=path+filetype+'/neg/'\n",
    "    for f in os.listdir(negative_path):\n",
    "        file_list +=[negative_path+f]\n",
    "    print('read',filetype,'files:',len(file_list))\n",
    "    \n",
    "    all_labels=([1]*12500+[0]*12500)\n",
    "    all_texts=[]\n",
    "    for fi in file_list:\n",
    "        with open(fi,encoding='utf8') as file_input:\n",
    "            all_texts +=[rm_tags(\"\".join(file_input.readlines()))]\n",
    "    return all_labels,all_texts"
   ]
  },
  {
   "cell_type": "code",
   "execution_count": 24,
   "metadata": {},
   "outputs": [
    {
     "name": "stdout",
     "output_type": "stream",
     "text": [
      "read train files: 25000\n",
      "read test files: 25000\n"
     ]
    }
   ],
   "source": [
    "y_train,train_text =read_files(\"train\")\n",
    "y_test,test_text=read_files(\"test\")\n",
    "#建立token\n",
    "token = Tokenizer(num_words=3800)\n",
    "token.fit_on_texts(train_text)"
   ]
  },
  {
   "cell_type": "code",
   "execution_count": 25,
   "metadata": {},
   "outputs": [],
   "source": [
    "x_train_seq = token.texts_to_sequences(train_text)\n",
    "x_test_seq = token.texts_to_sequences(test_text)"
   ]
  },
  {
   "cell_type": "code",
   "execution_count": 26,
   "metadata": {},
   "outputs": [],
   "source": [
    "x_train =sequence.pad_sequences(x_train_seq,maxlen=380)\n",
    "x_test = sequence.pad_sequences(x_test_seq,maxlen=380)"
   ]
  },
  {
   "cell_type": "code",
   "execution_count": null,
   "metadata": {},
   "outputs": [],
   "source": []
  },
  {
   "cell_type": "code",
   "execution_count": 29,
   "metadata": {},
   "outputs": [
    {
     "name": "stdout",
     "output_type": "stream",
     "text": [
      "_________________________________________________________________\n",
      "Layer (type)                 Output Shape              Param #   \n",
      "=================================================================\n",
      "embedding_3 (Embedding)      (None, 380, 32)           121600    \n",
      "_________________________________________________________________\n",
      "dropout_5 (Dropout)          (None, 380, 32)           0         \n",
      "_________________________________________________________________\n",
      "lstm_3 (LSTM)                (None, 32)                8320      \n",
      "_________________________________________________________________\n",
      "dense_5 (Dense)              (None, 256)               8448      \n",
      "_________________________________________________________________\n",
      "dropout_6 (Dropout)          (None, 256)               0         \n",
      "_________________________________________________________________\n",
      "dense_6 (Dense)              (None, 1)                 257       \n",
      "=================================================================\n",
      "Total params: 138,625\n",
      "Trainable params: 138,625\n",
      "Non-trainable params: 0\n",
      "_________________________________________________________________\n"
     ]
    }
   ],
   "source": [
    "from keras.models import Sequential\n",
    "from keras.layers.core import Dense,Dropout,Activation,Flatten\n",
    "from keras.layers.embeddings import Embedding\n",
    "from keras.layers.recurrent import LSTM\n",
    "\n",
    "model = Sequential()\n",
    "model.add(Embedding(output_dim=32,\n",
    "                   input_dim=3800,\n",
    "                   input_length=380))\n",
    "model.add(Dropout(0.2))\n",
    "\n",
    "model.add(LSTM(32))\n",
    "\n",
    "model.add(Dense(units=256,activation='relu'))\n",
    "model.add(Dropout(0.2))\n",
    "\n",
    "model.add(Dense(units=1,activation='sigmoid'))\n",
    "\n",
    "model.summary()"
   ]
  },
  {
   "cell_type": "code",
   "execution_count": 30,
   "metadata": {},
   "outputs": [],
   "source": [
    "model.compile(loss='binary_crossentropy',\n",
    "             optimizer='adam',metrics=['accuracy'])"
   ]
  },
  {
   "cell_type": "code",
   "execution_count": 31,
   "metadata": {
    "scrolled": true
   },
   "outputs": [
    {
     "name": "stdout",
     "output_type": "stream",
     "text": [
      "Train on 20000 samples, validate on 5000 samples\n",
      "Epoch 1/10\n",
      " - 34s - loss: 0.5007 - acc: 0.7446 - val_loss: 0.3836 - val_acc: 0.8450\n",
      "Epoch 2/10\n",
      " - 32s - loss: 0.2729 - acc: 0.8901 - val_loss: 0.5015 - val_acc: 0.7772\n",
      "Epoch 3/10\n",
      " - 30s - loss: 0.2287 - acc: 0.9114 - val_loss: 0.4400 - val_acc: 0.8082\n",
      "Epoch 4/10\n",
      " - 30s - loss: 0.2019 - acc: 0.9240 - val_loss: 0.4013 - val_acc: 0.8282\n",
      "Epoch 5/10\n",
      " - 30s - loss: 0.1724 - acc: 0.9356 - val_loss: 0.4505 - val_acc: 0.8220\n",
      "Epoch 6/10\n",
      " - 29s - loss: 0.1661 - acc: 0.9357 - val_loss: 0.4137 - val_acc: 0.8436\n",
      "Epoch 7/10\n",
      " - 30s - loss: 0.1395 - acc: 0.9486 - val_loss: 0.6633 - val_acc: 0.7914\n",
      "Epoch 8/10\n",
      " - 29s - loss: 0.1209 - acc: 0.9556 - val_loss: 0.5301 - val_acc: 0.8336\n",
      "Epoch 9/10\n",
      " - 30s - loss: 0.1158 - acc: 0.9577 - val_loss: 0.8034 - val_acc: 0.7614\n",
      "Epoch 10/10\n",
      " - 30s - loss: 0.1036 - acc: 0.9622 - val_loss: 0.6650 - val_acc: 0.8130\n"
     ]
    }
   ],
   "source": [
    "train_history =model.fit(x_train,y_train,batch_size=100,\n",
    "                        epochs=10,verbose=2,validation_split=0.2)"
   ]
  },
  {
   "cell_type": "code",
   "execution_count": null,
   "metadata": {},
   "outputs": [],
   "source": []
  }
 ],
 "metadata": {
  "kernelspec": {
   "display_name": "Python 3",
   "language": "python",
   "name": "python3"
  },
  "language_info": {
   "codemirror_mode": {
    "name": "ipython",
    "version": 3
   },
   "file_extension": ".py",
   "mimetype": "text/x-python",
   "name": "python",
   "nbconvert_exporter": "python",
   "pygments_lexer": "ipython3",
   "version": "3.5.4"
  }
 },
 "nbformat": 4,
 "nbformat_minor": 2
}
